{
 "cells": [
  {
   "cell_type": "code",
   "execution_count": null,
   "id": "c0a70629-a698-4a97-9739-bce9640b1603",
   "metadata": {},
   "outputs": [],
   "source": [
    "import numpy as np\n",
    "import torch\n",
    "import argparse\n",
    "import torch.nn.functional as F\n",
    "from ogb.nodeproppred import Evaluator\n",
    "from utils import set_seed, load_data, get_model"
   ]
  },
  {
   "cell_type": "code",
   "execution_count": 2,
   "id": "d8a1fb25-a21d-4014-b7be-4edd7c7d8908",
   "metadata": {},
   "outputs": [],
   "source": [
    "def parse_args():\n",
    "    parser = argparse.ArgumentParser(description='GCN')\n",
    "    parser.add_argument('--repetitions', type=int, default=10)\n",
    "    parser.add_argument('--random_seed', type=int, default=10)\n",
    "    parser.add_argument('--dataset', type=str, default='CoauthorPhysics')\n",
    "    parser.add_argument('--device', type=int, default=0)\n",
    "    parser.add_argument('--type_model', type=str, default='UGDGNN')   \n",
    "    parser.add_argument('--transductive', type=bool, default=True)\n",
    "    args = parser.parse_args(args=[])\n",
    "    return args"
   ]
  },
  {
   "cell_type": "code",
   "execution_count": 3,
   "id": "709bb5ea-323b-4a6a-9761-eb673e9c6dc5",
   "metadata": {},
   "outputs": [],
   "source": [
    "def main(args):\n",
    "    print(args)    \n",
    "    best_acc_mean = 0\n",
    "    best_acc_std = 0\n",
    "    device = torch.device(f'cuda:{args.device}' if torch.cuda.is_available() else 'cpu')     \n",
    "    list_test_acc = []\n",
    "    list_valid_acc = []\n",
    "    list_train_loss = []    \n",
    "    for repetition in range(args.repetitions):\n",
    "        print(f'Repetition <{repetition}>')\n",
    "        set_seed(repetition)\n",
    "        args, data = load_data(args)                \n",
    "        data = data.to(device)\n",
    "        args.num_features = data.num_node_features \n",
    "        torch.cuda.empty_cache()                                       \n",
    "        model = get_model(args)               \n",
    "        model.cuda(device) \n",
    "        best_train_loss = 100.\n",
    "        best_val_loss = 100.\n",
    "        best_train_acc = 0.\n",
    "        best_val_acc = 0.        \n",
    "        best_test_acc = 0.\n",
    "        bad_counter = 0.\n",
    "        for epoch in range(args.epochs):\n",
    "            model.train()       \n",
    "            output = model(data.x, data.edge_index)           \n",
    "            loss = 0.\n",
    "            \n",
    "            if args.dataset == 'ogbn-arxiv':\n",
    "                loss_train = F.nll_loss(output[data.train_mask], data.y.squeeze(1)[data.train_mask])\n",
    "            else:\n",
    "                loss_train = F.nll_loss(output[data.train_mask], data.y[data.train_mask])   \n",
    "\n",
    "            model.optimizer.zero_grad()\n",
    "            loss_train.backward()\n",
    "            model.optimizer.step()\n",
    "\n",
    "            model.eval()\n",
    "            output = model(data.x, data.edge_index)\n",
    "            if args.dataset == 'ogbn-arxiv':\n",
    "                evaluator = Evaluator(name='ogbn-arxiv')\n",
    "                acc_train = evaluator.eval({'y_true': data.y[data.train_mask],\n",
    "                        'y_pred': torch.argmax(output, dim=1)[data.train_mask].reshape(len(data.train_mask),1),})['acc']\n",
    "                acc_val = evaluator.eval({'y_true': data.y[data.val_mask],\n",
    "                        'y_pred': torch.argmax(output, dim=1)[data.val_mask].reshape(len(data.val_mask),1),})['acc']\n",
    "                acc_test = evaluator.eval({'y_true': data.y[data.test_mask],\n",
    "                        'y_pred': torch.argmax(output, dim=1)[data.test_mask].reshape(len(data.test_mask),1),})['acc']\n",
    "            else:\n",
    "                acc_train = torch.sum(torch.argmax(output, dim=1)[data.train_mask] == \n",
    "                                      data.y[data.train_mask]).item() * 1.0 / data.train_mask.sum().item()\n",
    "                acc_val = torch.sum(torch.argmax(output, dim=1)[data.val_mask] == \n",
    "                                      data.y[data.val_mask]).item() * 1.0 / data.val_mask.sum().item()\n",
    "                acc_test = torch.sum(torch.argmax(output, dim=1)[data.test_mask] == \n",
    "                                      data.y[data.test_mask]).item() * 1.0 / data.test_mask.sum().item()\n",
    "\n",
    "            if args.dataset == 'ogbn-arxiv':\n",
    "                loss_val = F.nll_loss(output[data.val_mask], data.y.squeeze(1)[data.val_mask]) \n",
    "            else:\n",
    "                loss_val = F.nll_loss(output[data.val_mask], data.y[data.val_mask])     \n",
    "\n",
    "            if loss_val < best_val_loss:\n",
    "                best_train_loss = loss_train\n",
    "                best_val_loss = loss_val\n",
    "                best_train_acc = acc_train\n",
    "                best_val_acc = acc_val\n",
    "                best_test_acc = acc_test               \n",
    "                bad_counter = 0\n",
    "            else:\n",
    "                bad_counter += 1\n",
    "            if bad_counter == args.patience:\n",
    "                break\n",
    "        print('test_acc:{:.4f}'.format(best_test_acc))\n",
    "        list_train_loss.append(best_train_loss)\n",
    "        list_valid_acc.append(best_val_acc)\n",
    "        list_test_acc.append(best_test_acc)\n",
    "    print('final mean and std of test acc with <{}> runs: {:.4f}±{:.4f}'.format(\n",
    "        args.repetitions, np.mean(list_test_acc), np.std(list_test_acc)))"
   ]
  },
  {
   "cell_type": "code",
   "execution_count": 4,
   "id": "ae695a6a-aa29-49f1-8628-39b0af19cfe5",
   "metadata": {},
   "outputs": [],
   "source": [
    "args = parse_args()"
   ]
  },
  {
   "cell_type": "code",
   "execution_count": 5,
   "id": "6e045606-4b6b-4a1c-a089-b12ecb6b03d2",
   "metadata": {
    "tags": []
   },
   "outputs": [
    {
     "name": "stdout",
     "output_type": "stream",
     "text": [
      "Namespace(dataset='CoauthorPhysics', device=0, random_seed=10, repetitions=10, transductive=True, type_model='UGDGNN')\n",
      "Repetition <0>\n"
     ]
    },
    {
     "name": "stderr",
     "output_type": "stream",
     "text": [
      "Downloading https://github.com/shchur/gnn-benchmark/raw/master/data/npz/ms_academic_phy.npz\n",
      "Processing...\n",
      "Done!\n"
     ]
    },
    {
     "name": "stdout",
     "output_type": "stream",
     "text": [
      "test_acc:0.9315\n",
      "Repetition <1>\n",
      "test_acc:0.9386\n",
      "Repetition <2>\n",
      "test_acc:0.9368\n",
      "Repetition <3>\n",
      "test_acc:0.9436\n",
      "Repetition <4>\n",
      "test_acc:0.9423\n",
      "Repetition <5>\n",
      "test_acc:0.9451\n",
      "Repetition <6>\n",
      "test_acc:0.9460\n",
      "Repetition <7>\n",
      "test_acc:0.9480\n",
      "Repetition <8>\n",
      "test_acc:0.9366\n",
      "Repetition <9>\n",
      "test_acc:0.9454\n",
      "final mean and std of test acc with <10> runs: 0.9414±0.0050\n"
     ]
    }
   ],
   "source": [
    "main(args)"
   ]
  },
  {
   "cell_type": "code",
   "execution_count": null,
   "id": "a05ae699-2817-4a3f-bf92-72d70e7422e9",
   "metadata": {},
   "outputs": [],
   "source": []
  }
 ],
 "metadata": {
  "kernelspec": {
   "display_name": "Python 3 (ipykernel)",
   "language": "python",
   "name": "python3"
  },
  "language_info": {
   "codemirror_mode": {
    "name": "ipython",
    "version": 3
   },
   "file_extension": ".py",
   "mimetype": "text/x-python",
   "name": "python",
   "nbconvert_exporter": "python",
   "pygments_lexer": "ipython3",
   "version": "3.8.13"
  }
 },
 "nbformat": 4,
 "nbformat_minor": 5
}
